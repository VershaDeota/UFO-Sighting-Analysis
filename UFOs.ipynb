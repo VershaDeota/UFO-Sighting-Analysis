{
 "cells": [
  {
   "cell_type": "markdown",
   "metadata": {},
   "source": [
    "# UFO Analysis"
   ]
  },
  {
   "cell_type": "markdown",
   "metadata": {},
   "source": [
    "## Abstract"
   ]
  },
  {
   "cell_type": "markdown",
   "metadata": {},
   "source": [
    "The goal of this project is to explore the UFO data across US states and to get some meaningful insights.\n",
    "\n",
    "For this project we will be working with **Kaggle's UFO Sightings** dataset- https://www.kaggle.com/NUFORC/ufo-sightings\n",
    "\n",
    "Following questions will be answered-\n",
    "* When and where do people see UFOs in California?\n",
    "* What is the average length of UFO sightings across the U.S. states?\n",
    "* Differences in the circumstances of UFO sightings across the U.S. states?"
   ]
  },
  {
   "cell_type": "markdown",
   "metadata": {},
   "source": [
    "#### To enable multiple output"
   ]
  },
  {
   "cell_type": "code",
   "execution_count": 1,
   "metadata": {},
   "outputs": [],
   "source": [
    "from IPython.core.interactiveshell import InteractiveShell\n",
    "InteractiveShell.ast_node_interactivity = \"all\""
   ]
  },
  {
   "cell_type": "code",
   "execution_count": 1,
   "metadata": {},
   "outputs": [],
   "source": [
    "import pandas as pd"
   ]
  },
  {
   "cell_type": "markdown",
   "metadata": {},
   "source": [
    "## Reading the UFO Data and Cleaning"
   ]
  },
  {
   "cell_type": "code",
   "execution_count": 2,
   "metadata": {},
   "outputs": [
    {
     "data": {
      "text/html": [
       "<div>\n",
       "<style scoped>\n",
       "    .dataframe tbody tr th:only-of-type {\n",
       "        vertical-align: middle;\n",
       "    }\n",
       "\n",
       "    .dataframe tbody tr th {\n",
       "        vertical-align: top;\n",
       "    }\n",
       "\n",
       "    .dataframe thead th {\n",
       "        text-align: right;\n",
       "    }\n",
       "</style>\n",
       "<table border=\"1\" class=\"dataframe\">\n",
       "  <thead>\n",
       "    <tr style=\"text-align: right;\">\n",
       "      <th></th>\n",
       "      <th>datetime</th>\n",
       "      <th>city</th>\n",
       "      <th>state</th>\n",
       "      <th>country</th>\n",
       "      <th>shape</th>\n",
       "      <th>duration (seconds)</th>\n",
       "      <th>duration (hours/min)</th>\n",
       "      <th>comments</th>\n",
       "      <th>date posted</th>\n",
       "      <th>latitude</th>\n",
       "      <th>longitude</th>\n",
       "    </tr>\n",
       "  </thead>\n",
       "  <tbody>\n",
       "    <tr>\n",
       "      <th>0</th>\n",
       "      <td>10/10/1949 20:30</td>\n",
       "      <td>san marcos</td>\n",
       "      <td>tx</td>\n",
       "      <td>us</td>\n",
       "      <td>cylinder</td>\n",
       "      <td>2700</td>\n",
       "      <td>45 minutes</td>\n",
       "      <td>This event took place in early fall around 194...</td>\n",
       "      <td>4/27/2004</td>\n",
       "      <td>29.8830556</td>\n",
       "      <td>-97.941111</td>\n",
       "    </tr>\n",
       "    <tr>\n",
       "      <th>1</th>\n",
       "      <td>10/10/1949 21:00</td>\n",
       "      <td>lackland afb</td>\n",
       "      <td>tx</td>\n",
       "      <td>NaN</td>\n",
       "      <td>light</td>\n",
       "      <td>7200</td>\n",
       "      <td>1-2 hrs</td>\n",
       "      <td>1949 Lackland AFB&amp;#44 TX.  Lights racing acros...</td>\n",
       "      <td>12/16/2005</td>\n",
       "      <td>29.38421</td>\n",
       "      <td>-98.581082</td>\n",
       "    </tr>\n",
       "  </tbody>\n",
       "</table>\n",
       "</div>"
      ],
      "text/plain": [
       "           datetime          city state country     shape duration (seconds)  \\\n",
       "0  10/10/1949 20:30    san marcos    tx      us  cylinder               2700   \n",
       "1  10/10/1949 21:00  lackland afb    tx     NaN     light               7200   \n",
       "\n",
       "  duration (hours/min)                                           comments  \\\n",
       "0           45 minutes  This event took place in early fall around 194...   \n",
       "1              1-2 hrs  1949 Lackland AFB&#44 TX.  Lights racing acros...   \n",
       "\n",
       "  date posted    latitude  longitude   \n",
       "0   4/27/2004  29.8830556  -97.941111  \n",
       "1  12/16/2005    29.38421  -98.581082  "
      ]
     },
     "execution_count": 2,
     "metadata": {},
     "output_type": "execute_result"
    }
   ],
   "source": [
    "df=pd.read_csv('scrubbed.csv', low_memory=False)\n",
    "df.head(2)"
   ]
  },
  {
   "cell_type": "markdown",
   "metadata": {},
   "source": [
    "#### Column renaming to make it more user-friendly"
   ]
  },
  {
   "cell_type": "code",
   "execution_count": 3,
   "metadata": {},
   "outputs": [],
   "source": [
    "df=df.rename(columns={'datetime':'sighted_on', 'duration (seconds)':'duration_s', \n",
    "                      'duration (hours/min)':'duration_hm','date posted':'posted_on'})"
   ]
  },
  {
   "cell_type": "code",
   "execution_count": 4,
   "metadata": {},
   "outputs": [],
   "source": [
    "df=df.set_index('sighted_on')"
   ]
  },
  {
   "cell_type": "markdown",
   "metadata": {},
   "source": [
    "#### Preprocessing data by transforming the columns "
   ]
  },
  {
   "cell_type": "code",
   "execution_count": 5,
   "metadata": {},
   "outputs": [],
   "source": [
    "df['city']=df['city'].str.title()\n",
    "df['state']=df['state'].str.upper()\n",
    "df['country']=df['country'].str.upper()"
   ]
  },
  {
   "cell_type": "markdown",
   "metadata": {},
   "source": [
    "## Sighting in California at various times"
   ]
  },
  {
   "cell_type": "code",
   "execution_count": 6,
   "metadata": {},
   "outputs": [
    {
     "data": {
      "text/html": [
       "<div>\n",
       "<style scoped>\n",
       "    .dataframe tbody tr th:only-of-type {\n",
       "        vertical-align: middle;\n",
       "    }\n",
       "\n",
       "    .dataframe tbody tr th {\n",
       "        vertical-align: top;\n",
       "    }\n",
       "\n",
       "    .dataframe thead th {\n",
       "        text-align: right;\n",
       "    }\n",
       "</style>\n",
       "<table border=\"1\" class=\"dataframe\">\n",
       "  <thead>\n",
       "    <tr style=\"text-align: right;\">\n",
       "      <th></th>\n",
       "      <th>city</th>\n",
       "      <th>state</th>\n",
       "      <th>country</th>\n",
       "      <th>shape</th>\n",
       "      <th>duration_s</th>\n",
       "      <th>duration_hm</th>\n",
       "      <th>comments</th>\n",
       "      <th>posted_on</th>\n",
       "      <th>latitude</th>\n",
       "      <th>longitude</th>\n",
       "    </tr>\n",
       "    <tr>\n",
       "      <th>sighted_on</th>\n",
       "      <th></th>\n",
       "      <th></th>\n",
       "      <th></th>\n",
       "      <th></th>\n",
       "      <th></th>\n",
       "      <th></th>\n",
       "      <th></th>\n",
       "      <th></th>\n",
       "      <th></th>\n",
       "      <th></th>\n",
       "    </tr>\n",
       "  </thead>\n",
       "  <tbody>\n",
       "    <tr>\n",
       "      <th>10/10/1968 13:00</th>\n",
       "      <td>Hawthorne</td>\n",
       "      <td>CA</td>\n",
       "      <td>US</td>\n",
       "      <td>circle</td>\n",
       "      <td>300</td>\n",
       "      <td>5 min.</td>\n",
       "      <td>ROUND &amp;#44 ORANGE &amp;#44 WITH WHAT I WOULD SAY W...</td>\n",
       "      <td>10/31/2003</td>\n",
       "      <td>33.9163889</td>\n",
       "      <td>-118.351667</td>\n",
       "    </tr>\n",
       "    <tr>\n",
       "      <th>10/10/1979 22:00</th>\n",
       "      <td>San Diego</td>\n",
       "      <td>CA</td>\n",
       "      <td>US</td>\n",
       "      <td>oval</td>\n",
       "      <td>180</td>\n",
       "      <td>3 minutes</td>\n",
       "      <td>My 2nd UFO sighting&amp;#44 October 1979</td>\n",
       "      <td>8/5/2001</td>\n",
       "      <td>32.7152778</td>\n",
       "      <td>-117.156389</td>\n",
       "    </tr>\n",
       "    <tr>\n",
       "      <th>10/10/1989 00:00</th>\n",
       "      <td>Calabasas</td>\n",
       "      <td>CA</td>\n",
       "      <td>US</td>\n",
       "      <td>disk</td>\n",
       "      <td>300</td>\n",
       "      <td>approx 5 min</td>\n",
       "      <td>Unidentified object on Mulholland Highway.</td>\n",
       "      <td>12/14/2004</td>\n",
       "      <td>34.1577778</td>\n",
       "      <td>-118.637500</td>\n",
       "    </tr>\n",
       "    <tr>\n",
       "      <th>10/10/1995 22:40</th>\n",
       "      <td>Oakland</td>\n",
       "      <td>CA</td>\n",
       "      <td>US</td>\n",
       "      <td>NaN</td>\n",
       "      <td>60</td>\n",
       "      <td>1 minute</td>\n",
       "      <td>Woman repts.  bright light in NW sky&amp;#44 sudde...</td>\n",
       "      <td>11/2/1999</td>\n",
       "      <td>37.8044444</td>\n",
       "      <td>-122.269722</td>\n",
       "    </tr>\n",
       "    <tr>\n",
       "      <th>10/10/1998 02:30</th>\n",
       "      <td>Hollywood</td>\n",
       "      <td>CA</td>\n",
       "      <td>US</td>\n",
       "      <td>changing</td>\n",
       "      <td>300</td>\n",
       "      <td>5 minutes</td>\n",
       "      <td>I was standing outside on Sunset Blvd. at Vine...</td>\n",
       "      <td>11/1/1998</td>\n",
       "      <td>34.0983333</td>\n",
       "      <td>-118.325833</td>\n",
       "    </tr>\n",
       "  </tbody>\n",
       "</table>\n",
       "</div>"
      ],
      "text/plain": [
       "                       city state country     shape duration_s   duration_hm  \\\n",
       "sighted_on                                                                     \n",
       "10/10/1968 13:00  Hawthorne    CA      US    circle        300        5 min.   \n",
       "10/10/1979 22:00  San Diego    CA      US      oval        180     3 minutes   \n",
       "10/10/1989 00:00  Calabasas    CA      US      disk        300  approx 5 min   \n",
       "10/10/1995 22:40    Oakland    CA      US       NaN         60      1 minute   \n",
       "10/10/1998 02:30  Hollywood    CA      US  changing        300     5 minutes   \n",
       "\n",
       "                                                           comments  \\\n",
       "sighted_on                                                            \n",
       "10/10/1968 13:00  ROUND &#44 ORANGE &#44 WITH WHAT I WOULD SAY W...   \n",
       "10/10/1979 22:00               My 2nd UFO sighting&#44 October 1979   \n",
       "10/10/1989 00:00         Unidentified object on Mulholland Highway.   \n",
       "10/10/1995 22:40  Woman repts.  bright light in NW sky&#44 sudde...   \n",
       "10/10/1998 02:30  I was standing outside on Sunset Blvd. at Vine...   \n",
       "\n",
       "                   posted_on    latitude  longitude   \n",
       "sighted_on                                            \n",
       "10/10/1968 13:00  10/31/2003  33.9163889 -118.351667  \n",
       "10/10/1979 22:00    8/5/2001  32.7152778 -117.156389  \n",
       "10/10/1989 00:00  12/14/2004  34.1577778 -118.637500  \n",
       "10/10/1995 22:40   11/2/1999  37.8044444 -122.269722  \n",
       "10/10/1998 02:30   11/1/1998  34.0983333 -118.325833  "
      ]
     },
     "execution_count": 6,
     "metadata": {},
     "output_type": "execute_result"
    }
   ],
   "source": [
    "Sighting_Cal=df[df['state']=='CA']\n",
    "Sighting_Cal.head(5)"
   ]
  },
  {
   "cell_type": "markdown",
   "metadata": {},
   "source": [
    "## Average length of UFO sightings across the U.S. states"
   ]
  },
  {
   "cell_type": "markdown",
   "metadata": {},
   "source": [
    "#### Transforming the duration data into numeric value "
   ]
  },
  {
   "cell_type": "code",
   "execution_count": 7,
   "metadata": {},
   "outputs": [],
   "source": [
    "df['duration_s'] = pd.to_numeric(df['duration_s'],errors='coerce')"
   ]
  },
  {
   "cell_type": "markdown",
   "metadata": {},
   "source": [
    "#### Calculating the average sighting time"
   ]
  },
  {
   "cell_type": "code",
   "execution_count": 8,
   "metadata": {},
   "outputs": [
    {
     "name": "stdout",
     "output_type": "stream",
     "text": [
      "Average sighting time is 9017.225634 seconds\n"
     ]
    }
   ],
   "source": [
    "time=df['duration_s'].mean()\n",
    "print(\"Average sighting time is %2f seconds\" % time)"
   ]
  },
  {
   "cell_type": "markdown",
   "metadata": {},
   "source": [
    "#### Average sighting duration in the format of Days:Hours:Minutes:Seconds"
   ]
  },
  {
   "cell_type": "code",
   "execution_count": 9,
   "metadata": {},
   "outputs": [
    {
     "name": "stdout",
     "output_type": "stream",
     "text": [
      "d:h:m:s-> 0:2:30:17\n"
     ]
    }
   ],
   "source": [
    "day = time // (24 * 3600)\n",
    "time = time % (24 * 3600)\n",
    "hour = time // 3600\n",
    "time %= 3600\n",
    "minutes = time // 60\n",
    "time %= 60\n",
    "seconds = time\n",
    "print(\"d:h:m:s-> %d:%d:%d:%d\" % (day, hour, minutes, seconds))"
   ]
  },
  {
   "cell_type": "markdown",
   "metadata": {},
   "source": [
    "## Analyzing UFO Sighting Comments"
   ]
  },
  {
   "cell_type": "markdown",
   "metadata": {},
   "source": [
    "#### Writing comments in a text file"
   ]
  },
  {
   "cell_type": "code",
   "execution_count": 10,
   "metadata": {},
   "outputs": [],
   "source": [
    "import codecs\n",
    "file = codecs.open(\"comments.txt\", \"w\")\n",
    "for i in df.comments:\n",
    "    file.write(str(i))\n",
    "    file.write(\"\\n\")\n",
    "file.close() \n"
   ]
  },
  {
   "cell_type": "markdown",
   "metadata": {},
   "source": [
    "#### Now we have generated a file containing comments for the further analysis."
   ]
  },
  {
   "cell_type": "markdown",
   "metadata": {},
   "source": [
    "## Pre-processing Comments"
   ]
  },
  {
   "cell_type": "markdown",
   "metadata": {},
   "source": [
    "#### Importing required packages"
   ]
  },
  {
   "cell_type": "code",
   "execution_count": 11,
   "metadata": {},
   "outputs": [
    {
     "name": "stdout",
     "output_type": "stream",
     "text": [
      "[nltk_data] Downloading package stopwords to\n",
      "[nltk_data]     C:\\Users\\VershaDeota\\AppData\\Roaming\\nltk_data...\n",
      "[nltk_data]   Package stopwords is already up-to-date!\n"
     ]
    }
   ],
   "source": [
    "import nltk\n",
    "from nltk.corpus import stopwords # Import the stop word list\n",
    "nltk.download(\"stopwords\")\n",
    "import sklearn \n",
    "import collections, re"
   ]
  },
  {
   "cell_type": "markdown",
   "metadata": {},
   "source": [
    "#### Cleaning the comments using regular expressions"
   ]
  },
  {
   "cell_type": "code",
   "execution_count": 12,
   "metadata": {},
   "outputs": [],
   "source": [
    "def clean_comments(comment):\n",
    "    #Convert to lower case\n",
    "    comment = comment.lower()\n",
    "    #Remove additional white spaces\n",
    "    comment = re.sub('[\\s]+', ' ', comment)\n",
    "    #Replace #word with word\n",
    "    comment = re.sub(r'#([^\\s]+)', r'\\1', comment)\n",
    "    #Replace all non alphanumeric i.e remove all special characters\n",
    "    comment=re.sub(r\"\\d*$\", \"\", comment)\n",
    "    comment=re.sub(r'[^\\w]', ' ', comment)\n",
    "    comment =re.sub(\"[.]\", \"\", comment)\n",
    "    #trim\n",
    "    comment = comment.strip('\\'\"')\n",
    "    #comment= comment.strip()\n",
    "    comments_list=comment.split()\n",
    "    return comments_list\n"
   ]
  },
  {
   "cell_type": "markdown",
   "metadata": {},
   "source": [
    "#### Creating stopwords, positive and negative list of words"
   ]
  },
  {
   "cell_type": "code",
   "execution_count": 13,
   "metadata": {},
   "outputs": [],
   "source": [
    "stop_words = list(stopwords.words('english'))\n",
    "\n",
    "positive_words=open('PositiveWords.txt','r').read().split(\"\\n\")\n",
    "\n",
    "negative_words=open('NegativeWords.txt','r').read().split(\"\\n\")"
   ]
  },
  {
   "cell_type": "markdown",
   "metadata": {},
   "source": [
    "#### Cleaning the comment file and adding it in the list"
   ]
  },
  {
   "cell_type": "code",
   "execution_count": 14,
   "metadata": {},
   "outputs": [],
   "source": [
    "import inflection  # it's a string transformation library.\n",
    "final_comments=[]\n",
    "#Read the file line by line\n",
    "fp = open('comments.txt', 'r',encoding=\"utf8\")\n",
    "line = fp.readline()\n",
    "\n",
    "while line:\n",
    "    line = fp.readline()\n",
    "\n",
    "    #Add the cleaned tweets to list\n",
    "    clean_comment=clean_comments(line)\n",
    "    \n",
    "    #removing stopwords from the clean_tweets list\n",
    "    for i in clean_comment:\n",
    "        if i in stop_words:\n",
    "            continue\n",
    "        if i in positive_words:\n",
    "            continue\n",
    "        if i in negative_words:\n",
    "            continue\n",
    "        if len(i)<3:\n",
    "            continue\n",
    "        else:\n",
    "            final_comments.append(inflection.singularize(i))    #To convert plural to singular word, like lights->light        \n",
    "#end loop\n",
    "fp.close()"
   ]
  },
  {
   "cell_type": "markdown",
   "metadata": {},
   "source": [
    "## Finding the 10 most frequent words from comments"
   ]
  },
  {
   "cell_type": "code",
   "execution_count": 15,
   "metadata": {},
   "outputs": [
    {
     "data": {
      "text/plain": [
       "[('light', 36072),\n",
       " ('sky', 17579),\n",
       " ('moving', 9223),\n",
       " ('orange', 8929),\n",
       " ('white', 8138),\n",
       " ('red', 7922),\n",
       " ('shaped', 7059),\n",
       " ('saw', 6725),\n",
       " ('craft', 5954),\n",
       " ('ufo', 5771)]"
      ]
     },
     "execution_count": 15,
     "metadata": {},
     "output_type": "execute_result"
    }
   ],
   "source": [
    "fdist = nltk.FreqDist(final_comments)\n",
    "twenty_most_common=fdist.most_common(10)\n",
    "twenty_most_common"
   ]
  },
  {
   "cell_type": "markdown",
   "metadata": {},
   "source": [
    "#### Based on the word frequency in comments we can list the circumstances of UFO sightings across the U.S. states-\n",
    "\n",
    "* People were mostly commenting about the lights they saw in the sky, of various colors mostly white, orange and red. \n",
    "* The object was moving. \n",
    "* People have commented about the different shape of the craft and UFO."
   ]
  }
 ],
 "metadata": {
  "kernelspec": {
   "display_name": "Python 3",
   "language": "python",
   "name": "python3"
  },
  "language_info": {
   "codemirror_mode": {
    "name": "ipython",
    "version": 3
   },
   "file_extension": ".py",
   "mimetype": "text/x-python",
   "name": "python",
   "nbconvert_exporter": "python",
   "pygments_lexer": "ipython3",
   "version": "3.6.4"
  }
 },
 "nbformat": 4,
 "nbformat_minor": 2
}
