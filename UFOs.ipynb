{
 "cells": [
  {
   "cell_type": "markdown",
   "metadata": {},
   "source": [
    "# UFO Analysis"
   ]
  },
  {
   "cell_type": "markdown",
   "metadata": {},
   "source": [
    "## Abstract"
   ]
  },
  {
   "cell_type": "markdown",
   "metadata": {},
   "source": [
    "The goal of this project is to explore the UFO data across US states and to get some meaningful insights.\n",
    "\n",
    "For this project we will be working with **Kaggle's UFO Sightings** dataset- https://www.kaggle.com/NUFORC/ufo-sightings\n",
    "\n",
    "Following questions will be answered-\n",
    "* When and where do people see UFOs in California?\n",
    "* What is the average length of UFO sightings across the U.S. states?\n",
    "* Differences in the circumstances of UFO sightings across the U.S. states?"
   ]
  },
  {
   "cell_type": "markdown",
   "metadata": {},
   "source": [
    "#### To enable multiple output"
   ]
  },
  {
   "cell_type": "code",
   "execution_count": 1,
   "metadata": {},
   "outputs": [],
   "source": [
    "from IPython.core.interactiveshell import InteractiveShell\n",
    "InteractiveShell.ast_node_interactivity = \"all\""
   ]
  },
  {
   "cell_type": "code",
   "execution_count": 1,
   "metadata": {},
   "outputs": [],
   "source": [
    "import pandas as pd"
   ]
  },
  {
   "cell_type": "markdown",
   "metadata": {},
   "source": [
    "## Reading the UFO Data and Cleaning"
   ]
  },
  {
   "cell_type": "code",
   "execution_count": 2,
   "metadata": {},
   "outputs": [
    {
     "data": {
      "text/html": [
       "<div>\n",
       "<style scoped>\n",
       "    .dataframe tbody tr th:only-of-type {\n",
       "        vertical-align: middle;\n",
       "    }\n",
       "\n",
       "    .dataframe tbody tr th {\n",
       "        vertical-align: top;\n",
       "    }\n",
       "\n",
       "    .dataframe thead th {\n",
       "        text-align: right;\n",
       "    }\n",
       "</style>\n",
       "<table border=\"1\" class=\"dataframe\">\n",
       "  <thead>\n",
       "    <tr style=\"text-align: right;\">\n",
       "      <th></th>\n",
       "      <th>datetime</th>\n",
       "      <th>city</th>\n",
       "      <th>state</th>\n",
       "      <th>country</th>\n",
       "      <th>shape</th>\n",
       "      <th>duration (seconds)</th>\n",
       "      <th>duration (hours/min)</th>\n",
       "      <th>comments</th>\n",
       "      <th>date posted</th>\n",
       "      <th>latitude</th>\n",
       "      <th>longitude</th>\n",
       "    </tr>\n",
       "  </thead>\n",
       "  <tbody>\n",
       "    <tr>\n",
       "      <th>0</th>\n",
       "      <td>10/10/1949 20:30</td>\n",
       "      <td>san marcos</td>\n",
       "      <td>tx</td>\n",
       "      <td>us</td>\n",
       "      <td>cylinder</td>\n",
       "      <td>2700</td>\n",
       "      <td>45 minutes</td>\n",
       "      <td>This event took place in early fall around 194...</td>\n",
       "      <td>4/27/2004</td>\n",
       "      <td>29.8830556</td>\n",
       "      <td>-97.941111</td>\n",
       "    </tr>\n",
       "    <tr>\n",
       "      <th>1</th>\n",
       "      <td>10/10/1949 21:00</td>\n",
       "      <td>lackland afb</td>\n",
       "      <td>tx</td>\n",
       "      <td>NaN</td>\n",
       "      <td>light</td>\n",
       "      <td>7200</td>\n",
       "      <td>1-2 hrs</td>\n",
       "      <td>1949 Lackland AFB&amp;#44 TX.  Lights racing acros...</td>\n",
       "      <td>12/16/2005</td>\n",
       "      <td>29.38421</td>\n",
       "      <td>-98.581082</td>\n",
       "    </tr>\n",
       "  </tbody>\n",
       "</table>\n",
       "</div>"
      ],
      "text/plain": [
       "           datetime          city state country     shape duration (seconds)  \\\n",
       "0  10/10/1949 20:30    san marcos    tx      us  cylinder               2700   \n",
       "1  10/10/1949 21:00  lackland afb    tx     NaN     light               7200   \n",
       "\n",
       "  duration (hours/min)                                           comments  \\\n",
       "0           45 minutes  This event took place in early fall around 194...   \n",
       "1              1-2 hrs  1949 Lackland AFB&#44 TX.  Lights racing acros...   \n",
       "\n",
       "  date posted    latitude  longitude   \n",
       "0   4/27/2004  29.8830556  -97.941111  \n",
       "1  12/16/2005    29.38421  -98.581082  "
      ]
     },
     "execution_count": 2,
     "metadata": {},
     "output_type": "execute_result"
    }
   ],
   "source": [
    "df=pd.read_csv('scrubbed.csv', low_memory=False)\n",
    "df.head(2)"
   ]
  },
  {
   "cell_type": "markdown",
   "metadata": {},
   "source": [
    "#### Column renaming to make it more user-friendly"
   ]
  },
  {
   "cell_type": "code",
   "execution_count": 3,
   "metadata": {},
   "outputs": [],
   "source": [
    "df=df.rename(columns={'datetime':'sighted_on', 'duration (seconds)':'duration_s', \n",
    "                      'duration (hours/min)':'duration_hm','date posted':'posted_on'})"
   ]
  },
  {
   "cell_type": "code",
   "execution_count": 4,
   "metadata": {},
   "outputs": [],
   "source": [
    "df=df.set_index('sighted_on')"
   ]
  },
  {
   "cell_type": "markdown",
   "metadata": {},
   "source": [
    "#### Preprocessing data by transforming the columns "
   ]
  },
  {
   "cell_type": "code",
   "execution_count": 5,
   "metadata": {},
   "outputs": [],
   "source": [
    "df['city']=df['city'].str.title()\n",
    "df['state']=df['state'].str.upper()\n",
    "df['country']=df['country'].str.upper()"
   ]
  },
  {
   "cell_type": "markdown",
   "metadata": {},
   "source": [
    "#### Transforming into numeric value "
   ]
  },
  {
   "cell_type": "code",
   "execution_count": 6,
   "metadata": {},
   "outputs": [],
   "source": [
    "df['latitude'] = pd.to_numeric(df['latitude'],errors='coerce')\n",
    "df['duration_s'] = pd.to_numeric(df['duration_s'],errors='coerce')"
   ]
  },
  {
   "cell_type": "markdown",
   "metadata": {},
   "source": [
    "#### Filtering for country US"
   ]
  },
  {
   "cell_type": "code",
   "execution_count": 7,
   "metadata": {},
   "outputs": [],
   "source": [
    "df=df[df['country']=='US']"
   ]
  },
  {
   "cell_type": "markdown",
   "metadata": {},
   "source": [
    "## Sighting in California at various times"
   ]
  },
  {
   "cell_type": "code",
   "execution_count": 8,
   "metadata": {},
   "outputs": [
    {
     "data": {
      "text/html": [
       "<div>\n",
       "<style scoped>\n",
       "    .dataframe tbody tr th:only-of-type {\n",
       "        vertical-align: middle;\n",
       "    }\n",
       "\n",
       "    .dataframe tbody tr th {\n",
       "        vertical-align: top;\n",
       "    }\n",
       "\n",
       "    .dataframe thead th {\n",
       "        text-align: right;\n",
       "    }\n",
       "</style>\n",
       "<table border=\"1\" class=\"dataframe\">\n",
       "  <thead>\n",
       "    <tr style=\"text-align: right;\">\n",
       "      <th></th>\n",
       "      <th>city</th>\n",
       "      <th>state</th>\n",
       "      <th>country</th>\n",
       "      <th>shape</th>\n",
       "      <th>duration_s</th>\n",
       "      <th>duration_hm</th>\n",
       "      <th>comments</th>\n",
       "      <th>posted_on</th>\n",
       "      <th>latitude</th>\n",
       "      <th>longitude</th>\n",
       "    </tr>\n",
       "    <tr>\n",
       "      <th>sighted_on</th>\n",
       "      <th></th>\n",
       "      <th></th>\n",
       "      <th></th>\n",
       "      <th></th>\n",
       "      <th></th>\n",
       "      <th></th>\n",
       "      <th></th>\n",
       "      <th></th>\n",
       "      <th></th>\n",
       "      <th></th>\n",
       "    </tr>\n",
       "  </thead>\n",
       "  <tbody>\n",
       "    <tr>\n",
       "      <th>10/10/1968 13:00</th>\n",
       "      <td>Hawthorne</td>\n",
       "      <td>CA</td>\n",
       "      <td>US</td>\n",
       "      <td>circle</td>\n",
       "      <td>300.0</td>\n",
       "      <td>5 min.</td>\n",
       "      <td>ROUND &amp;#44 ORANGE &amp;#44 WITH WHAT I WOULD SAY W...</td>\n",
       "      <td>10/31/2003</td>\n",
       "      <td>33.916389</td>\n",
       "      <td>-118.351667</td>\n",
       "    </tr>\n",
       "    <tr>\n",
       "      <th>10/10/1979 22:00</th>\n",
       "      <td>San Diego</td>\n",
       "      <td>CA</td>\n",
       "      <td>US</td>\n",
       "      <td>oval</td>\n",
       "      <td>180.0</td>\n",
       "      <td>3 minutes</td>\n",
       "      <td>My 2nd UFO sighting&amp;#44 October 1979</td>\n",
       "      <td>8/5/2001</td>\n",
       "      <td>32.715278</td>\n",
       "      <td>-117.156389</td>\n",
       "    </tr>\n",
       "    <tr>\n",
       "      <th>10/10/1989 00:00</th>\n",
       "      <td>Calabasas</td>\n",
       "      <td>CA</td>\n",
       "      <td>US</td>\n",
       "      <td>disk</td>\n",
       "      <td>300.0</td>\n",
       "      <td>approx 5 min</td>\n",
       "      <td>Unidentified object on Mulholland Highway.</td>\n",
       "      <td>12/14/2004</td>\n",
       "      <td>34.157778</td>\n",
       "      <td>-118.637500</td>\n",
       "    </tr>\n",
       "    <tr>\n",
       "      <th>10/10/1995 22:40</th>\n",
       "      <td>Oakland</td>\n",
       "      <td>CA</td>\n",
       "      <td>US</td>\n",
       "      <td>NaN</td>\n",
       "      <td>60.0</td>\n",
       "      <td>1 minute</td>\n",
       "      <td>Woman repts.  bright light in NW sky&amp;#44 sudde...</td>\n",
       "      <td>11/2/1999</td>\n",
       "      <td>37.804444</td>\n",
       "      <td>-122.269722</td>\n",
       "    </tr>\n",
       "    <tr>\n",
       "      <th>10/10/1998 02:30</th>\n",
       "      <td>Hollywood</td>\n",
       "      <td>CA</td>\n",
       "      <td>US</td>\n",
       "      <td>changing</td>\n",
       "      <td>300.0</td>\n",
       "      <td>5 minutes</td>\n",
       "      <td>I was standing outside on Sunset Blvd. at Vine...</td>\n",
       "      <td>11/1/1998</td>\n",
       "      <td>34.098333</td>\n",
       "      <td>-118.325833</td>\n",
       "    </tr>\n",
       "  </tbody>\n",
       "</table>\n",
       "</div>"
      ],
      "text/plain": [
       "                       city state country     shape  duration_s   duration_hm  \\\n",
       "sighted_on                                                                      \n",
       "10/10/1968 13:00  Hawthorne    CA      US    circle       300.0        5 min.   \n",
       "10/10/1979 22:00  San Diego    CA      US      oval       180.0     3 minutes   \n",
       "10/10/1989 00:00  Calabasas    CA      US      disk       300.0  approx 5 min   \n",
       "10/10/1995 22:40    Oakland    CA      US       NaN        60.0      1 minute   \n",
       "10/10/1998 02:30  Hollywood    CA      US  changing       300.0     5 minutes   \n",
       "\n",
       "                                                           comments  \\\n",
       "sighted_on                                                            \n",
       "10/10/1968 13:00  ROUND &#44 ORANGE &#44 WITH WHAT I WOULD SAY W...   \n",
       "10/10/1979 22:00               My 2nd UFO sighting&#44 October 1979   \n",
       "10/10/1989 00:00         Unidentified object on Mulholland Highway.   \n",
       "10/10/1995 22:40  Woman repts.  bright light in NW sky&#44 sudde...   \n",
       "10/10/1998 02:30  I was standing outside on Sunset Blvd. at Vine...   \n",
       "\n",
       "                   posted_on   latitude  longitude   \n",
       "sighted_on                                           \n",
       "10/10/1968 13:00  10/31/2003  33.916389 -118.351667  \n",
       "10/10/1979 22:00    8/5/2001  32.715278 -117.156389  \n",
       "10/10/1989 00:00  12/14/2004  34.157778 -118.637500  \n",
       "10/10/1995 22:40   11/2/1999  37.804444 -122.269722  \n",
       "10/10/1998 02:30   11/1/1998  34.098333 -118.325833  "
      ]
     },
     "execution_count": 8,
     "metadata": {},
     "output_type": "execute_result"
    }
   ],
   "source": [
    "Sighting_Cal=df[df['state']=='CA']\n",
    "Sighting_Cal.head(5)"
   ]
  },
  {
   "cell_type": "code",
   "execution_count": 9,
   "metadata": {},
   "outputs": [
    {
     "name": "stdout",
     "output_type": "stream",
     "text": [
      "Populating the interactive namespace from numpy and matplotlib\n"
     ]
    },
    {
     "data": {
      "text/plain": [
       "<matplotlib.axes._subplots.AxesSubplot at 0x11750390>"
      ]
     },
     "execution_count": 9,
     "metadata": {},
     "output_type": "execute_result"
    },
    {
     "data": {
      "image/png": "[encoded data removed]",
      "text/plain": [
       "<matplotlib.figure.Figure at 0x11759930>"
      ]
     },
     "metadata": {},
     "output_type": "display_data"
    }
   ],
   "source": [
    "%pylab inline\n",
    "Sighting_Cal.plot()"
   ]
  },
  {
   "cell_type": "markdown",
   "metadata": {},
   "source": [
    "## Average length of UFO sightings across the U.S. states"
   ]
  },
  {
   "cell_type": "markdown",
   "metadata": {},
   "source": [
    "#### Calculating the average sighting time"
   ]
  },
  {
   "cell_type": "code",
   "execution_count": 10,
   "metadata": {},
   "outputs": [
    {
     "name": "stdout",
     "output_type": "stream",
     "text": [
      "Average sighting time is 5800.192049 seconds\n"
     ]
    }
   ],
   "source": [
    "time=df['duration_s'].mean()\n",
    "print(\"Average sighting time is %2f seconds\" % time)"
   ]
  },
  {
   "cell_type": "markdown",
   "metadata": {},
   "source": [
    "#### Average sighting duration in the format of Days:Hours:Minutes:Seconds"
   ]
  },
  {
   "cell_type": "code",
   "execution_count": 11,
   "metadata": {},
   "outputs": [
    {
     "name": "stdout",
     "output_type": "stream",
     "text": [
      "d:h:m:s-> 0:1:36:40\n"
     ]
    }
   ],
   "source": [
    "day = time // (24 * 3600)\n",
    "time = time % (24 * 3600)\n",
    "hour = time // 3600\n",
    "time %= 3600\n",
    "minutes = time // 60\n",
    "time %= 60\n",
    "seconds = time\n",
    "print(\"d:h:m:s-> %d:%d:%d:%d\" % (day, hour, minutes, seconds))"
   ]
  },
  {
   "cell_type": "markdown",
   "metadata": {},
   "source": [
    "#### Calculating the average sighting time across US states"
   ]
  },
  {
   "cell_type": "code",
   "execution_count": 12,
   "metadata": {},
   "outputs": [
    {
     "data": {
      "text/plain": [
       "state\n",
       "AK      4615.752351\n",
       "AL      1411.538162\n",
       "AR    113930.296769\n",
       "AZ      6425.574637\n",
       "CA      3381.238298\n",
       "CO      3087.327035\n",
       "CT     14132.476233\n",
       "DC       235.071429\n",
       "DE       882.948795\n",
       "FL     14593.241199\n",
       "GA      7600.329163\n",
       "HI     25708.198473\n",
       "IA       936.699115\n",
       "ID       929.029367\n",
       "IL       883.122877\n",
       "IN      3272.908929\n",
       "KS      1393.358075\n",
       "KY      4040.173684\n",
       "LA     12254.166667\n",
       "MA      1282.606688\n",
       "MD       834.966906\n",
       "ME      3357.985484\n",
       "MI      3923.128050\n",
       "MN      1382.596176\n",
       "MO      1142.996433\n",
       "MS      9064.805333\n",
       "MT      2231.615063\n",
       "NC      1186.240431\n",
       "ND      1105.147287\n",
       "NE      1096.501312\n",
       "NH      2228.021605\n",
       "NJ      6226.090837\n",
       "NM      5699.346653\n",
       "NV      3013.286364\n",
       "NY      3003.656560\n",
       "OH      1453.723429\n",
       "OK      1181.098481\n",
       "OR      1063.413440\n",
       "PA      4120.428571\n",
       "PR      1050.400000\n",
       "RI      2080.186404\n",
       "SC      1104.023729\n",
       "SD      2626.795082\n",
       "TN      1670.955585\n",
       "TX      2463.959603\n",
       "UT      5500.345659\n",
       "VA     10712.976434\n",
       "VT      1026.713462\n",
       "WA     14470.397413\n",
       "WI      2041.445860\n",
       "WV      6685.738839\n",
       "WY      1452.262857\n",
       "Name: duration_s, dtype: float64"
      ]
     },
     "execution_count": 12,
     "metadata": {},
     "output_type": "execute_result"
    }
   ],
   "source": [
    "df.groupby('state')['duration_s'].mean()"
   ]
  },
  {
   "cell_type": "markdown",
   "metadata": {},
   "source": [
    " #### Average sighting time across US states"
   ]
  },
  {
   "cell_type": "code",
   "execution_count": 14,
   "metadata": {},
   "outputs": [
    {
     "name": "stdout",
     "output_type": "stream",
     "text": [
      "Populating the interactive namespace from numpy and matplotlib\n"
     ]
    },
    {
     "data": {
      "text/plain": [
       "<matplotlib.axes._subplots.AxesSubplot at 0x14011d10>"
      ]
     },
     "execution_count": 14,
     "metadata": {},
     "output_type": "execute_result"
    },
    {
     "data": {
      "image/png": "[encoded data removed]",
      "text/plain": [
       "<matplotlib.figure.Figure at 0x11242690>"
      ]
     },
     "metadata": {},
     "output_type": "display_data"
    }
   ],
   "source": [
    "%pylab inline\n",
    "df.groupby('state')['duration_s'].mean().plot()"
   ]
  },
  {
   "cell_type": "markdown",
   "metadata": {},
   "source": [
    "## Analyzing UFO Sighting Comments"
   ]
  },
  {
   "cell_type": "markdown",
   "metadata": {},
   "source": [
    "#### Writing comments in a text file"
   ]
  },
  {
   "cell_type": "code",
   "execution_count": 15,
   "metadata": {},
   "outputs": [],
   "source": [
    "import codecs\n",
    "file = codecs.open(\"comments.txt\", \"w\")\n",
    "for i in df.comments:\n",
    "    file.write(str(i))\n",
    "    file.write(\"\\n\")\n",
    "file.close() \n"
   ]
  },
  {
   "cell_type": "markdown",
   "metadata": {},
   "source": [
    "#### Now we have generated a file containing comments for the further analysis."
   ]
  },
  {
   "cell_type": "markdown",
   "metadata": {},
   "source": [
    "## Pre-processing Comments"
   ]
  },
  {
   "cell_type": "markdown",
   "metadata": {},
   "source": [
    "#### Importing required packages"
   ]
  },
  {
   "cell_type": "code",
   "execution_count": 16,
   "metadata": {},
   "outputs": [
    {
     "name": "stdout",
     "output_type": "stream",
     "text": [
      "[nltk_data] Downloading package stopwords to\n",
      "[nltk_data]     C:\\Users\\VershaDeota\\AppData\\Roaming\\nltk_data...\n",
      "[nltk_data]   Package stopwords is already up-to-date!\n"
     ]
    }
   ],
   "source": [
    "import nltk\n",
    "from nltk.corpus import stopwords # Import the stop word list\n",
    "nltk.download(\"stopwords\")\n",
    "import sklearn \n",
    "import collections, re"
   ]
  },
  {
   "cell_type": "markdown",
   "metadata": {},
   "source": [
    "#### Cleaning the comments using regular expressions"
   ]
  },
  {
   "cell_type": "code",
   "execution_count": 17,
   "metadata": {},
   "outputs": [],
   "source": [
    "def clean_comments(comment):\n",
    "    #Convert to lower case\n",
    "    comment = comment.lower()\n",
    "    #Remove additional white spaces\n",
    "    comment = re.sub('[\\s]+', ' ', comment)\n",
    "    #Replace #word with word\n",
    "    comment = re.sub(r'#([^\\s]+)', r'\\1', comment)\n",
    "    #Replace all non alphanumeric i.e remove all special characters\n",
    "    comment=re.sub(r\"\\d*$\", \"\", comment)\n",
    "    comment=re.sub(r'[^\\w]', ' ', comment)\n",
    "    comment =re.sub(\"[.]\", \"\", comment)\n",
    "    #trim\n",
    "    comment = comment.strip('\\'\"')\n",
    "    #comment= comment.strip()\n",
    "    comments_list=comment.split()\n",
    "    return comments_list\n"
   ]
  },
  {
   "cell_type": "markdown",
   "metadata": {},
   "source": [
    "#### Creating stopwords, positive and negative list of words"
   ]
  },
  {
   "cell_type": "code",
   "execution_count": 18,
   "metadata": {},
   "outputs": [],
   "source": [
    "stop_words = list(stopwords.words('english'))\n",
    "\n",
    "positive_words=open('PositiveWords.txt','r').read().split(\"\\n\")\n",
    "\n",
    "negative_words=open('NegativeWords.txt','r').read().split(\"\\n\")"
   ]
  },
  {
   "cell_type": "markdown",
   "metadata": {},
   "source": [
    "#### Cleaning the comment file and adding it in the list"
   ]
  },
  {
   "cell_type": "code",
   "execution_count": 19,
   "metadata": {},
   "outputs": [],
   "source": [
    "import inflection  # it's a string transformation library.\n",
    "final_comments=[]\n",
    "#Read the file line by line\n",
    "fp = open('comments.txt', 'r',encoding=\"utf8\")\n",
    "line = fp.readline()\n",
    "\n",
    "while line:\n",
    "    line = fp.readline()\n",
    "\n",
    "    #Add the cleaned tweets to list\n",
    "    clean_comment=clean_comments(line)\n",
    "    \n",
    "    #removing stopwords from the clean_tweets list\n",
    "    for i in clean_comment:\n",
    "        if i in stop_words:\n",
    "            continue\n",
    "        if i in positive_words:\n",
    "            continue\n",
    "        if i in negative_words:\n",
    "            continue\n",
    "        if len(i)<3:\n",
    "            continue\n",
    "        else:\n",
    "            final_comments.append(inflection.singularize(i))    #To convert plural to singular word, like lights->light        \n",
    "#end loop\n",
    "fp.close()"
   ]
  },
  {
   "cell_type": "markdown",
   "metadata": {},
   "source": [
    "## Finding the 10 most frequent words from comments"
   ]
  },
  {
   "cell_type": "code",
   "execution_count": 20,
   "metadata": {},
   "outputs": [
    {
     "data": {
      "text/plain": [
       "[('light', 29599),\n",
       " ('sky', 14535),\n",
       " ('moving', 7613),\n",
       " ('orange', 7392),\n",
       " ('white', 6753),\n",
       " ('red', 6710),\n",
       " ('shaped', 5811),\n",
       " ('saw', 5543),\n",
       " ('craft', 4872),\n",
       " ('seen', 4613)]"
      ]
     },
     "execution_count": 20,
     "metadata": {},
     "output_type": "execute_result"
    }
   ],
   "source": [
    "fdist = nltk.FreqDist(final_comments)\n",
    "twenty_most_common=fdist.most_common(10)\n",
    "twenty_most_common"
   ]
  },
  {
   "cell_type": "markdown",
   "metadata": {},
   "source": [
    "#### Based on the word frequency in comments we can list the circumstances of UFO sightings across the U.S. states-\n",
    "\n",
    "* People were mostly commenting about the lights they saw in the sky, of various colors mostly white, orange and red. \n",
    "* The object was moving. \n",
    "* People have commented about the different shape of the craft and UFO."
   ]
  }
 ],
 "metadata": {
  "kernelspec": {
   "display_name": "Python 3",
   "language": "python",
   "name": "python3"
  },
  "language_info": {
   "codemirror_mode": {
    "name": "ipython",
    "version": 3
   },
   "file_extension": ".py",
   "mimetype": "text/x-python",
   "name": "python",
   "nbconvert_exporter": "python",
   "pygments_lexer": "ipython3",
   "version": "3.6.4"
  }
 },
 "nbformat": 4,
 "nbformat_minor": 2
}
